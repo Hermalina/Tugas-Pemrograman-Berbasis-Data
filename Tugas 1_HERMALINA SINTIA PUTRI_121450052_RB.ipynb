{
  "nbformat": 4,
  "nbformat_minor": 0,
  "metadata": {
    "colab": {
      "provenance": [],
      "toc_visible": true
    },
    "kernelspec": {
      "name": "python3",
      "display_name": "Python 3"
    },
    "language_info": {
      "name": "python"
    }
  },
  "cells": [
    {
      "cell_type": "markdown",
      "source": [
        "Membuat program Simple Password encryption, dengan ketentuan:\n",
        "\n",
        "1.  Input password bertipe string dengan batasan panjang password\n",
        "100 karakter\n",
        "2.   Setiap karakter dari string tersebut diubah menjadi ASCII value\n",
        "3.   Kemudian setiap ASCII value tersebut dikembangkan menjadi 3\n",
        "value dengan dilakukan operasi berikut:\n",
        "*   Value pertama dibagi dengan integer 26 kemudian\n",
        "dibulatkan dan dijumlahkan dengan 80 kemudian diubah\n",
        "kembali menjadi karakter\n",
        "*   Value kedua dihitung sisa bagi dengan 26 kemudian\n",
        "dijumlahkan dengan 80 kemudian diubah kembali menjadi\n",
        "karakter\n",
        "*   Value ketiga adalah karakter ‘+’ jika value pertama lebih\n",
        "besar dari value kedua, atau value ketiga adalah karakter ‘-’\n",
        "jika value pertama tidak lebih besar dari value kedua\n",
        "4.   Deretkan value pertama, kedua dan ketiga untuk setiap karakter\n",
        "dalam password tersebut sehingga didapatkan password dalam\n",
        "bentuk baru\n",
        "\n",
        "\n",
        "\n",
        "\n"
      ],
      "metadata": {
        "id": "NhJshRA4AiT-"
      }
    },
    {
      "cell_type": "code",
      "execution_count": 1,
      "metadata": {
        "id": "lZNmB8ga_tvt"
      },
      "outputs": [],
      "source": [
        "# fungsi enkripsi\n",
        "def enkripsi(password):\n",
        "  # jika panjang password 100 karakter\n",
        "  if len(password) > 100 or len(password) == 0:\n",
        "    print(\"Enter 1-100 characters\")\n",
        "  else:\n",
        "    # merubah setiap karakter dari string menjadi ASCII value kemudian ditampung dalam list\n",
        "    ascii = [str(ord(i)) for i in password]\n",
        "    # membuat 3 value dari setiap kode ascii dan menggabungkan semuanya\n",
        "    enkri = ''.join(chr((int(j)//26)+80)+chr((int(j)%26)+80)+('+' if (int(j)//26)+80 > (int(j)%26)+80 else '-') for j in ascii)\n",
        "    # menampilkan hasil enkripsi\n",
        "    print(\"The encryption password is: \", enkri)"
      ]
    },
    {
      "cell_type": "code",
      "source": [
        "# enkripsi\n",
        "password = input(\"Enter Password: \")\n",
        "enkripsi(password)"
      ],
      "metadata": {
        "colab": {
          "base_uri": "https://localhost:8080/"
        },
        "id": "fVOR1apVAHV3",
        "outputId": "f99befc1-c594-4432-aaad-ab46f3cc10de"
      },
      "execution_count": 2,
      "outputs": [
        {
          "output_type": "stream",
          "name": "stdout",
          "text": [
            "Enter Password: sans\n",
            "The encryption password is:  T[-Sc-TV-T[-\n"
          ]
        }
      ]
    }
  ]
}